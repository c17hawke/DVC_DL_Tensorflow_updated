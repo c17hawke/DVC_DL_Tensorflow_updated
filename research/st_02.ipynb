{
 "cells": [
  {
   "cell_type": "code",
   "execution_count": 1,
   "metadata": {},
   "outputs": [],
   "source": [
    "import os\n",
    "os.chdir(\"../\")"
   ]
  },
  {
   "cell_type": "code",
   "execution_count": 46,
   "metadata": {},
   "outputs": [],
   "source": [
    "from deepClassifier.utils import create_directories, read_yaml\n",
    "from deepClassifier.config import *\n",
    "from dataclasses import dataclass\n",
    "from pathlib import Path\n",
    "from ensure import ensure_annotations\n",
    "from glob import glob"
   ]
  },
  {
   "cell_type": "code",
   "execution_count": 47,
   "metadata": {},
   "outputs": [],
   "source": [
    "@dataclass(frozen=True)\n",
    "class DataSplitConfig:\n",
    "    raw_data_dir: Path\n",
    "    train_data_dir: Path\n",
    "    test_data_dir: Path\n",
    "    split_ratio: float\n",
    "\n",
    "\n",
    "# DataSplitConfig = (\"DataSplitConfig\", [\"raw_data_dir\", \"train_data_dir\", \"eval_data_dir\"])"
   ]
  },
  {
   "cell_type": "code",
   "execution_count": 60,
   "metadata": {},
   "outputs": [],
   "source": [
    "class ConfigurationManager:\n",
    "    @ensure_annotations\n",
    "    def __init__(\n",
    "        self, \n",
    "        config_filepath=CONFIG_FILE_PATH, \n",
    "        params_filepath=PARAMS_FILE_PATH, \n",
    "        secrets_filepath=SECRETS_FILE_PATH):\n",
    "        self.config = read_yaml(path_to_yaml=config_filepath)\n",
    "        self.params = read_yaml(path_to_yaml=params_filepath)\n",
    "        self.secrets = read_yaml(path_to_yaml=secrets_filepath)\n",
    "        create_directories([self.config.artifacts_root])\n",
    "\n",
    "    @ensure_annotations\n",
    "    def get_data_split_config(self) -> DataSplitConfig:\n",
    "\n",
    "        config = self.config.data_split\n",
    "        create_directories([config.train_data_dir, config.test_data_dir])\n",
    "        data_split_config = DataSplitConfig(\n",
    "            raw_data_dir=Path(self.config.data_ingestion.root_dir),\n",
    "            train_data_dir=Path(config.train_data_dir),\n",
    "            test_data_dir=Path(config.test_data_dir),\n",
    "            split_ratio=self.params.SPLIT_RATIO\n",
    "        )\n",
    "\n",
    "\n",
    "        return data_split_config"
   ]
  },
  {
   "cell_type": "code",
   "execution_count": 61,
   "metadata": {},
   "outputs": [
    {
     "name": "stdout",
     "output_type": "stream",
     "text": [
      "[2022-09-16 22:24:45,090: INFO: common]: yaml file: configs\\config.yaml loaded successfully\n",
      "[2022-09-16 22:24:45,093: INFO: common]: yaml file: params.yaml loaded successfully\n",
      "[2022-09-16 22:24:45,096: INFO: common]: yaml file: configs\\secrets.yaml loaded successfully\n",
      "[2022-09-16 22:24:45,097: INFO: common]: created directory at: artifacts\n",
      "[2022-09-16 22:24:45,099: INFO: common]: created directory at: artifacts/data_split/train\n",
      "[2022-09-16 22:24:45,100: INFO: common]: created directory at: artifacts/data_split/test\n"
     ]
    }
   ],
   "source": [
    "config  =  ConfigurationManager()\n",
    "base_model_config = config.get_data_split_config()"
   ]
  },
  {
   "cell_type": "code",
   "execution_count": 70,
   "metadata": {},
   "outputs": [],
   "source": [
    "class DataSplit:\n",
    "    @ensure_annotations\n",
    "    def __init__(self,config: DataSplitConfig):\n",
    "        self.config = config\n",
    "\n",
    "    def split_data(self):\n",
    "        paths = glob(f\"{self.config.raw_data_dir}/*/*/*\")\n",
    "        print(len(paths), paths[0], paths[-1])\n",
    "        # print(paths)"
   ]
  },
  {
   "cell_type": "code",
   "execution_count": 71,
   "metadata": {},
   "outputs": [
    {
     "name": "stdout",
     "output_type": "stream",
     "text": [
      "24998 artifacts\\data_ingestion\\PetImages\\Cat\\0.jpg artifacts\\data_ingestion\\PetImages\\Dog\\9999.jpg\n"
     ]
    }
   ],
   "source": [
    "obj = DataSplit(base_model_config)\n",
    "obj.split_data()"
   ]
  },
  {
   "cell_type": "code",
   "execution_count": null,
   "metadata": {},
   "outputs": [],
   "source": []
  }
 ],
 "metadata": {
  "kernelspec": {
   "display_name": "Python 3.8.13 (conda)",
   "language": "python",
   "name": "python3"
  },
  "language_info": {
   "codemirror_mode": {
    "name": "ipython",
    "version": 3
   },
   "file_extension": ".py",
   "mimetype": "text/x-python",
   "name": "python",
   "nbconvert_exporter": "python",
   "pygments_lexer": "ipython3",
   "version": "3.8.13"
  },
  "orig_nbformat": 4,
  "vscode": {
   "interpreter": {
    "hash": "406b130da8ef9e06d1a3a2dfd0fdafc441daca366b10d436a5c3ee2f67e0e84e"
   }
  }
 },
 "nbformat": 4,
 "nbformat_minor": 2
}

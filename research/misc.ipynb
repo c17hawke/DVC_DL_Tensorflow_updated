{
 "cells": [
  {
   "cell_type": "code",
   "execution_count": 11,
   "metadata": {},
   "outputs": [],
   "source": [
    "class Example:\n",
    "    def __init__(self,name):\n",
    "        self.name = name\n",
    "\n",
    "    @property\n",
    "    def fullname(self):\n",
    "        return self.name + \" Chandra\"\n",
    "\n",
    "    def get_name(self):\n",
    "        return [self.fullname]"
   ]
  },
  {
   "cell_type": "code",
   "execution_count": 14,
   "metadata": {},
   "outputs": [
    {
     "data": {
      "text/plain": [
       "'Sunny Chandra'"
      ]
     },
     "execution_count": 14,
     "metadata": {},
     "output_type": "execute_result"
    }
   ],
   "source": [
    "e = Example(\"Sunny\")\n",
    "e.get_name()\n",
    "e.fullname"
   ]
  },
  {
   "cell_type": "code",
   "execution_count": null,
   "metadata": {},
   "outputs": [],
   "source": []
  }
 ],
 "metadata": {
  "kernelspec": {
   "display_name": "Python 3.8.13",
   "language": "python",
   "name": "python3"
  },
  "language_info": {
   "codemirror_mode": {
    "name": "ipython",
    "version": 3
   },
   "file_extension": ".py",
   "mimetype": "text/x-python",
   "name": "python",
   "nbconvert_exporter": "python",
   "pygments_lexer": "ipython3",
   "version": "3.8.13"
  },
  "orig_nbformat": 4,
  "vscode": {
   "interpreter": {
    "hash": "406b130da8ef9e06d1a3a2dfd0fdafc441daca366b10d436a5c3ee2f67e0e84e"
   }
  }
 },
 "nbformat": 4,
 "nbformat_minor": 2
}
